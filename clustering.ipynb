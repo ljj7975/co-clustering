{
 "cells": [
  {
   "cell_type": "code",
   "execution_count": 1,
   "metadata": {},
   "outputs": [],
   "source": [
    "import csv\n",
    "import numpy as np\n",
    "from sklearn import cluster, mixture\n",
    "from sklearn.neighbors import kneighbors_graph, KNeighborsClassifier\n",
    "import warnings"
   ]
  },
  {
   "cell_type": "code",
   "execution_count": 2,
   "metadata": {},
   "outputs": [],
   "source": [
    "col_names = [\"Class Name\", \"handicapped-infants\", \"water-project-cost-sharing\", \"adoption-of-the-budget-resolution\", \"physician-fee-freeze\", \"el-salvador-aid\", \"religious-groups-in-schools\", \"anti-satellite-test-ban\", \"aid-to-nicaraguan-contras\", \"mx-missile\", \"immigration\", \"synfuels-corporation-cutback\", \"education-spending\", \"superfund-right-to-sue\", \"crime\", \"duty-free-exports\", \"export-administration-act-south-africa\"]"
   ]
  },
  {
   "cell_type": "code",
   "execution_count": 3,
   "metadata": {},
   "outputs": [],
   "source": [
    "csvfile = open('data/CVRD/house-votes-84.data')\n",
    "csvreader = csv.reader(csvfile, delimiter=',', quotechar='|')\n",
    "\n",
    "def transform_yes_no(raw):\n",
    "    if raw == 'y':\n",
    "        return 2\n",
    "    elif raw == 'n':\n",
    "        return 0\n",
    "    else:\n",
    "        return 1\n",
    "\n",
    "X = []\n",
    "Y = []\n",
    "for item in csvreader:\n",
    "    if item[0] == 'republican':\n",
    "        Y.append(0)\n",
    "    elif item[0] == 'democrat':\n",
    "        Y.append(1)\n",
    "        \n",
    "    entry = []\n",
    "    for i in range(1, len(item)):\n",
    "        entry.append(transform_yes_no(item[i]))\n",
    "        \n",
    "    X.append(entry)\n",
    "    \n",
    "X = np.array(X)\n",
    "Y = np.array(Y)"
   ]
  },
  {
   "cell_type": "code",
   "execution_count": 4,
   "metadata": {},
   "outputs": [],
   "source": [
    "params = {'quantile': .3,\n",
    "                'eps': .3,\n",
    "                'damping': .9,\n",
    "                'preference': -200,\n",
    "                'n_neighbors': 10,\n",
    "                'n_clusters': 2,\n",
    "                'min_samples': 20,\n",
    "                'xi': 0.05,\n",
    "                'min_cluster_size': 0.1}\n",
    "\n",
    "# connectivity matrix for structured Ward\n",
    "connectivity = kneighbors_graph(\n",
    "    X, n_neighbors=params['n_neighbors'], include_self=False)\n",
    "# make connectivity symmetric\n",
    "connectivity = 0.5 * (connectivity + connectivity.T)"
   ]
  },
  {
   "cell_type": "code",
   "execution_count": 27,
   "metadata": {},
   "outputs": [],
   "source": [
    "two_means = cluster.MiniBatchKMeans(n_clusters=params['n_clusters'], random_state=20)\n",
    "spectral = cluster.SpectralClustering(\n",
    "    n_clusters=params['n_clusters'], eigen_solver='arpack',\n",
    "    affinity=\"nearest_neighbors\", random_state=40)\n",
    "ward = cluster.AgglomerativeClustering(\n",
    "    n_clusters=params['n_clusters'], linkage='ward',\n",
    "    connectivity=connectivity)\n",
    "average_linkage = cluster.AgglomerativeClustering(\n",
    "    linkage=\"average\", affinity=\"cityblock\",\n",
    "    n_clusters=params['n_clusters'], connectivity=connectivity)\n",
    "birch = cluster.Birch(n_clusters=params['n_clusters'])\n",
    "gmm = mixture.GaussianMixture(\n",
    "    n_components=params['n_clusters'], covariance_type='full',\n",
    "    random_state=10)\n",
    "\n",
    "clustering_algorithms = {\n",
    "    'MiniBatchKMeans': two_means,\n",
    "    'SpectralClustering': spectral,\n",
    "    'Ward': ward,\n",
    "    'AgglomerativeClustering': average_linkage,\n",
    "    'Birch': birch,\n",
    "    'GaussianMixture': gmm\n",
    "}"
   ]
  },
  {
   "cell_type": "code",
   "execution_count": 26,
   "metadata": {},
   "outputs": [
    {
     "name": "stdout",
     "output_type": "stream",
     "text": [
      "\n",
      " MiniBatchKMeans\n",
      "wrong pred : 54 , total : 435\n",
      "accuracy 87.59 %\n",
      "KNN retrieval accuracy 87.36 %\n",
      "\n",
      " SpectralClustering\n",
      "wrong pred : 53 , total : 435\n",
      "accuracy 87.82 %\n",
      "KNN retrieval accuracy 88.28 %\n",
      "\n",
      " Ward\n",
      "wrong pred : 65 , total : 435\n",
      "accuracy 85.06 %\n",
      "KNN retrieval accuracy 85.52 %\n",
      "\n",
      " AgglomerativeClustering\n",
      "wrong pred : 268 , total : 435\n",
      "accuracy 38.39 %\n",
      "KNN retrieval accuracy 38.39 %\n",
      "\n",
      " Birch\n",
      "wrong pred : 63 , total : 435\n",
      "accuracy 85.52 %\n",
      "KNN retrieval accuracy 85.98 %\n",
      "\n",
      " GaussianMixture\n",
      "wrong pred : 378 , total : 435\n",
      "accuracy 13.10 %\n",
      "KNN retrieval accuracy 12.64 %\n"
     ]
    }
   ],
   "source": [
    "for name, algorithm in clustering_algorithms.items():\n",
    "    # catch warnings related to kneighbors_graph\n",
    "    with warnings.catch_warnings():\n",
    "        warnings.filterwarnings(\n",
    "            \"ignore\",\n",
    "            message=\"the number of connected components of the \" +\n",
    "            \"connectivity matrix is [0-9]{1,2}\" +\n",
    "            \" > 1. Completing it to avoid stopping the tree early.\",\n",
    "            category=UserWarning)\n",
    "        warnings.filterwarnings(\n",
    "            \"ignore\",\n",
    "            message=\"Graph is not fully connected, spectral embedding\" +\n",
    "            \" may not work as expected.\",\n",
    "            category=UserWarning)\n",
    "        algorithm.fit(X)\n",
    "        \n",
    "        if hasattr(algorithm, 'labels_'):\n",
    "            y_pred = algorithm.labels_.astype(np.int)\n",
    "        else:\n",
    "            y_pred = algorithm.predict(X)\n",
    "        \n",
    "        print('\\n', name)\n",
    "        print('wrong pred :', np.sum(np.abs(y_pred - Y)), ', total :', len(Y))\n",
    "        accuracy = 1 - np.sum(np.abs(y_pred - Y))/len(Y)\n",
    "        print('accuracy', ('%.2f' % (accuracy * 100)).lstrip('0'), '%')\n",
    "        \n",
    "        neigh = KNeighborsClassifier(n_neighbors=5)\n",
    "        neigh.fit(X, y_pred)\n",
    "        print('KNN retrieval accuracy', ('%.2f' % (neigh.score(X,Y) * 100)).lstrip('0'), '%')"
   ]
  },
  {
   "cell_type": "code",
   "execution_count": null,
   "metadata": {},
   "outputs": [],
   "source": []
  },
  {
   "cell_type": "code",
   "execution_count": null,
   "metadata": {},
   "outputs": [],
   "source": []
  },
  {
   "cell_type": "code",
   "execution_count": null,
   "metadata": {},
   "outputs": [],
   "source": []
  },
  {
   "cell_type": "code",
   "execution_count": null,
   "metadata": {},
   "outputs": [],
   "source": []
  },
  {
   "cell_type": "code",
   "execution_count": null,
   "metadata": {},
   "outputs": [],
   "source": []
  },
  {
   "cell_type": "code",
   "execution_count": null,
   "metadata": {},
   "outputs": [],
   "source": []
  },
  {
   "cell_type": "code",
   "execution_count": null,
   "metadata": {},
   "outputs": [],
   "source": []
  },
  {
   "cell_type": "code",
   "execution_count": null,
   "metadata": {},
   "outputs": [],
   "source": []
  },
  {
   "cell_type": "code",
   "execution_count": null,
   "metadata": {},
   "outputs": [],
   "source": []
  }
 ],
 "metadata": {
  "kernelspec": {
   "display_name": "Python 3",
   "language": "python",
   "name": "python3"
  },
  "language_info": {
   "codemirror_mode": {
    "name": "ipython",
    "version": 3
   },
   "file_extension": ".py",
   "mimetype": "text/x-python",
   "name": "python",
   "nbconvert_exporter": "python",
   "pygments_lexer": "ipython3",
   "version": "3.7.3"
  }
 },
 "nbformat": 4,
 "nbformat_minor": 2
}
